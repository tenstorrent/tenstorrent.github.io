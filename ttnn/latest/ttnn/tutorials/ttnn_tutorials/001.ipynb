{
 "cells": [
  {
   "cell_type": "markdown",
   "metadata": {},
   "source": [
    "# Tensor and Add Operation\n",
    "\n",
    "ttnn.Tensor is the central type of ttnn.\n",
    "\n",
    "It is similar to torch.Tensor in the sense that it represents multi-dimensional matrix containing elements of a single data type.\n",
    "\n",
    "The are a few key differences:\n",
    "\n",
    "- ttnn.Tensor can be stored in the SRAM or DRAM of TensTorrent devices\n",
    "- ttnn.Tensor doesn't have a concept of the strides, however it has a concept of row-major and tile layout\n",
    "- ttnn.Tensor has support for data types not supported by torch such as `bfp8` for example\n",
    "- ttnn.Tensor's shape stores the padding added to the tensor due to TILE_LAYOUT"
   ]
  },
  {
   "cell_type": "markdown",
   "metadata": {},
   "source": [
    "## Creating a tensor\n",
    "\n",
    "The recommended way to create a tensor is by using torch create function and then simply calling `ttnn.from_torch`. So, let's import both `torch` and `ttnn`"
   ]
  },
  {
   "cell_type": "code",
   "execution_count": 1,
   "metadata": {
    "execution": {
     "iopub.execute_input": "2024-02-16T19:46:18.380122Z",
     "iopub.status.busy": "2024-02-16T19:46:18.379897Z",
     "iopub.status.idle": "2024-02-16T19:46:19.435585Z",
     "shell.execute_reply": "2024-02-16T19:46:19.434320Z"
    }
   },
   "outputs": [],
   "source": [
    "import torch\n",
    "import ttnn"
   ]
  },
  {
   "cell_type": "markdown",
   "metadata": {},
   "source": [
    "And now let's create a torch Tensor and convert it to ttnn Tensor"
   ]
  },
  {
   "cell_type": "code",
   "execution_count": 2,
   "metadata": {
    "execution": {
     "iopub.execute_input": "2024-02-16T19:46:19.439814Z",
     "iopub.status.busy": "2024-02-16T19:46:19.438761Z",
     "iopub.status.idle": "2024-02-16T19:46:19.445716Z",
     "shell.execute_reply": "2024-02-16T19:46:19.444738Z"
    }
   },
   "outputs": [
    {
     "name": "stdout",
     "output_type": "stream",
     "text": [
      "shape: ttnn.Shape([3, 4])\n",
      "layout: Layout.ROW_MAJOR\n",
      "dtype: DataType.FLOAT32\n"
     ]
    }
   ],
   "source": [
    "torch_tensor = torch.rand(3, 4)\n",
    "ttnn_tensor = ttnn.from_torch(torch_tensor)\n",
    "\n",
    "print(f\"shape: {ttnn_tensor.shape}\")\n",
    "print(f\"layout: {ttnn_tensor.layout}\")\n",
    "print(f\"dtype: {ttnn_tensor.dtype}\")"
   ]
  },
  {
   "cell_type": "markdown",
   "metadata": {},
   "source": [
    "As expected we get a tensor of shape [3, 4] in row-major layout with a data type of float32."
   ]
  },
  {
   "cell_type": "markdown",
   "metadata": {},
   "source": [
    "## Host Storage: Borrowed vs Owned\n",
    "\n",
    "In this particular case, ttnn Tensor will borrow the data of the torch Tensor because ttnn Tensor is in row-major layout, torch tensor is contiguous and their data type matches.\n",
    "\n",
    "Let's print the current ttnn tensor, set element of torch tensor to 1234 and print the ttnn Tensor again to see borrowed storage in action"
   ]
  },
  {
   "cell_type": "code",
   "execution_count": 3,
   "metadata": {
    "execution": {
     "iopub.execute_input": "2024-02-16T19:46:19.478320Z",
     "iopub.status.busy": "2024-02-16T19:46:19.477675Z",
     "iopub.status.idle": "2024-02-16T19:46:19.482563Z",
     "shell.execute_reply": "2024-02-16T19:46:19.481643Z"
    }
   },
   "outputs": [
    {
     "name": "stdout",
     "output_type": "stream",
     "text": [
      "Original values:\n",
      "Tensor([ [0.868396, 0.199809, 0.505658, 0.0919966],\n",
      "    [0.441207, 0.465399, 0.225584, 0.497159],\n",
      "    [0.205919, 0.219386, 0.0836022, 0.761129]], dtype=float32 )\n",
      "\n",
      "New values are all going to be 1234:\n",
      "Tensor([ [1234, 1234, 1234, 1234],\n",
      "    [1234, 1234, 1234, 1234],\n",
      "    [1234, 1234, 1234, 1234]], dtype=float32 )\n",
      "\n"
     ]
    }
   ],
   "source": [
    "print(f\"Original values:\\n{ttnn_tensor}\")\n",
    "torch_tensor[:] = 1234\n",
    "print(f\"New values are all going to be 1234:\\n{ttnn_tensor}\")"
   ]
  },
  {
   "cell_type": "markdown",
   "metadata": {},
   "source": [
    "We try our best to use borrowed storage but if the torch data type is not supported in ttnn, then we don't have a choice but to automatically pick a different data type and copy data"
   ]
  },
  {
   "cell_type": "code",
   "execution_count": 4,
   "metadata": {
    "execution": {
     "iopub.execute_input": "2024-02-16T19:46:19.485709Z",
     "iopub.status.busy": "2024-02-16T19:46:19.485061Z",
     "iopub.status.idle": "2024-02-16T19:46:19.490895Z",
     "shell.execute_reply": "2024-02-16T19:46:19.490013Z"
    }
   },
   "outputs": [
    {
     "name": "stdout",
     "output_type": "stream",
     "text": [
      "torch_tensor.dtype: torch.float16\n",
      "ttnn_tensor.dtype: DataType.BFLOAT16\n",
      "Original values:\n",
      "Tensor([ [0.9375, 0.0683594, 0.765625, 0.894531],\n",
      "    [0.100098, 0.285156, 0.597656, 0.21582],\n",
      "    [0.203125, 0.730469, 0.310547, 0.453125]], dtype=bfloat16 )\n",
      "\n"
     ]
    }
   ],
   "source": [
    "torch_tensor = torch.rand(3, 4).to(torch.float16)\n",
    "ttnn_tensor = ttnn.from_torch(torch_tensor)\n",
    "print(\"torch_tensor.dtype:\", torch_tensor.dtype)\n",
    "print(\"ttnn_tensor.dtype:\", ttnn_tensor.dtype)\n",
    "\n",
    "print(f\"Original values:\\n{ttnn_tensor}\")\n",
    "torch_tensor[0, 0] = 1234\n",
    "#print(f\"Original values again because the tensor doesn't use borrowed storage:\\n{ttnn_tensor}\")"
   ]
  },
  {
   "cell_type": "markdown",
   "metadata": {},
   "source": [
    "## Data Type\n",
    "\n",
    "The data type of the ttnn tensor can be controlled explicitly when conversion from torch."
   ]
  },
  {
   "cell_type": "code",
   "execution_count": 5,
   "metadata": {
    "execution": {
     "iopub.execute_input": "2024-02-16T19:46:19.494006Z",
     "iopub.status.busy": "2024-02-16T19:46:19.493319Z",
     "iopub.status.idle": "2024-02-16T19:46:19.498599Z",
     "shell.execute_reply": "2024-02-16T19:46:19.497667Z"
    }
   },
   "outputs": [
    {
     "name": "stdout",
     "output_type": "stream",
     "text": [
      "torch_tensor.dtype: torch.float32\n",
      "ttnn_tensor.dtype: DataType.BFLOAT16\n"
     ]
    }
   ],
   "source": [
    "torch_tensor = torch.rand(3, 4).to(torch.float32)\n",
    "ttnn_tensor = ttnn.from_torch(torch_tensor, dtype=ttnn.bfloat16)\n",
    "print(f\"torch_tensor.dtype: {torch_tensor.dtype}\")\n",
    "print(f\"ttnn_tensor.dtype: {ttnn_tensor.dtype}\")"
   ]
  },
  {
   "cell_type": "markdown",
   "metadata": {},
   "source": [
    "## Layout\n",
    "\n",
    "TensTorrent hardware is most efficiently utilized when running tensors using [tile layout](https://tenstorrent.github.io/tt-metal/latest/ttnn/tensor.html#layout).\n",
    "The current tile size is hard-coded to [32, 32]. It was determined to be the optimal size for a tile given the compute, memory and data transfer constraints.\n",
    "\n",
    "\n",
    "ttnn provides easy and intuitive way to convert from row-major layout to tile layout and back."
   ]
  },
  {
   "cell_type": "code",
   "execution_count": 6,
   "metadata": {
    "execution": {
     "iopub.execute_input": "2024-02-16T19:46:19.501671Z",
     "iopub.status.busy": "2024-02-16T19:46:19.501074Z",
     "iopub.status.idle": "2024-02-16T19:46:19.508754Z",
     "shell.execute_reply": "2024-02-16T19:46:19.507804Z"
    }
   },
   "outputs": [
    {
     "name": "stdout",
     "output_type": "stream",
     "text": [
      "Tensor in row-major layout:\n",
      "Shape ttnn.Shape([3, 4])\n",
      "Layout: Layout.ROW_MAJOR\n",
      "Tensor([ [0.020752, 0.0820312, 0.664062, 0.0742188],\n",
      "    [0.0463867, 0.785156, 0.664062, 0.0195312],\n",
      "    [0.304688, 0.287109, 0.671875, 0.808594]], dtype=bfloat16 )\n",
      "\n",
      "Tensor in tile layout:\n",
      "Shape ttnn.Shape([3[32], 4[32]])\n",
      "Layout: Layout.TILE\n",
      "Tensor([ [0.020752, 0.0820312, 0.664062, 0.0742188, 0, 0, 0, 0, 0, 0, 0, 0, 0, 0, 0, 0, 0, 0, 0, 0, 0, 0, 0, 0, 0, 0, 0, 0, 0, 0, 0, 0],\n",
      "    [0.0463867, 0.785156, 0.664062, 0.0195312, 0, 0, 0, 0, 0, 0, 0, 0, 0, 0, 0, 0, 0, 0, 0, 0, 0, 0, 0, 0, 0, 0, 0, 0, 0, 0, 0, 0],\n",
      "    [0.304688, 0.287109, 0.671875, 0.808594, 0, 0, 0, 0, 0, 0, 0, 0, 0, 0, 0, 0, 0, 0, 0, 0, 0, 0, 0, 0, 0, 0, 0, 0, 0, 0, 0, 0],\n",
      "    [0, 0, 0, 0, 0, 0, 0, 0, 0, 0, 0, 0, 0, 0, 0, 0, 0, 0, 0, 0, 0, 0, 0, 0, 0, 0, 0, 0, 0, 0, 0, 0],\n",
      "    [0, 0, 0, 0, 0, 0, 0, 0, 0, 0, 0, 0, 0, 0, 0, 0, 0, 0, 0, 0, 0, 0, 0, 0, 0, 0, 0, 0, 0, 0, 0, 0],\n",
      "    [0, 0, 0, 0, 0, 0, 0, 0, 0, 0, 0, 0, 0, 0, 0, 0, 0, 0, 0, 0, 0, 0, 0, 0, 0, 0, 0, 0, 0, 0, 0, 0],\n",
      "    [0, 0, 0, 0, 0, 0, 0, 0, 0, 0, 0, 0, 0, 0, 0, 0, 0, 0, 0, 0, 0, 0, 0, 0, 0, 0, 0, 0, 0, 0, 0, 0],\n",
      "    [0, 0, 0, 0, 0, 0, 0, 0, 0, 0, 0, 0, 0, 0, 0, 0, 0, 0, 0, 0, 0, 0, 0, 0, 0, 0, 0, 0, 0, 0, 0, 0],\n",
      "    [0, 0, 0, 0, 0, 0, 0, 0, 0, 0, 0, 0, 0, 0, 0, 0, 0, 0, 0, 0, 0, 0, 0, 0, 0, 0, 0, 0, 0, 0, 0, 0],\n",
      "    [0, 0, 0, 0, 0, 0, 0, 0, 0, 0, 0, 0, 0, 0, 0, 0, 0, 0, 0, 0, 0, 0, 0, 0, 0, 0, 0, 0, 0, 0, 0, 0],\n",
      "    [0, 0, 0, 0, 0, 0, 0, 0, 0, 0, 0, 0, 0, 0, 0, 0, 0, 0, 0, 0, 0, 0, 0, 0, 0, 0, 0, 0, 0, 0, 0, 0],\n",
      "    [0, 0, 0, 0, 0, 0, 0, 0, 0, 0, 0, 0, 0, 0, 0, 0, 0, 0, 0, 0, 0, 0, 0, 0, 0, 0, 0, 0, 0, 0, 0, 0],\n",
      "    [0, 0, 0, 0, 0, 0, 0, 0, 0, 0, 0, 0, 0, 0, 0, 0, 0, 0, 0, 0, 0, 0, 0, 0, 0, 0, 0, 0, 0, 0, 0, 0],\n",
      "    [0, 0, 0, 0, 0, 0, 0, 0, 0, 0, 0, 0, 0, 0, 0, 0, 0, 0, 0, 0, 0, 0, 0, 0, 0, 0, 0, 0, 0, 0, 0, 0],\n",
      "    [0, 0, 0, 0, 0, 0, 0, 0, 0, 0, 0, 0, 0, 0, 0, 0, 0, 0, 0, 0, 0, 0, 0, 0, 0, 0, 0, 0, 0, 0, 0, 0],\n",
      "    [0, 0, 0, 0, 0, 0, 0, 0, 0, 0, 0, 0, 0, 0, 0, 0, 0, 0, 0, 0, 0, 0, 0, 0, 0, 0, 0, 0, 0, 0, 0, 0],\n",
      "    [0, 0, 0, 0, 0, 0, 0, 0, 0, 0, 0, 0, 0, 0, 0, 0, 0, 0, 0, 0, 0, 0, 0, 0, 0, 0, 0, 0, 0, 0, 0, 0],\n",
      "    [0, 0, 0, 0, 0, 0, 0, 0, 0, 0, 0, 0, 0, 0, 0, 0, 0, 0, 0, 0, 0, 0, 0, 0, 0, 0, 0, 0, 0, 0, 0, 0],\n",
      "    [0, 0, 0, 0, 0, 0, 0, 0, 0, 0, 0, 0, 0, 0, 0, 0, 0, 0, 0, 0, 0, 0, 0, 0, 0, 0, 0, 0, 0, 0, 0, 0],\n",
      "    [0, 0, 0, 0, 0, 0, 0, 0, 0, 0, 0, 0, 0, 0, 0, 0, 0, 0, 0, 0, 0, 0, 0, 0, 0, 0, 0, 0, 0, 0, 0, 0],\n",
      "    [0, 0, 0, 0, 0, 0, 0, 0, 0, 0, 0, 0, 0, 0, 0, 0, 0, 0, 0, 0, 0, 0, 0, 0, 0, 0, 0, 0, 0, 0, 0, 0],\n",
      "    [0, 0, 0, 0, 0, 0, 0, 0, 0, 0, 0, 0, 0, 0, 0, 0, 0, 0, 0, 0, 0, 0, 0, 0, 0, 0, 0, 0, 0, 0, 0, 0],\n",
      "    [0, 0, 0, 0, 0, 0, 0, 0, 0, 0, 0, 0, 0, 0, 0, 0, 0, 0, 0, 0, 0, 0, 0, 0, 0, 0, 0, 0, 0, 0, 0, 0],\n",
      "    [0, 0, 0, 0, 0, 0, 0, 0, 0, 0, 0, 0, 0, 0, 0, 0, 0, 0, 0, 0, 0, 0, 0, 0, 0, 0, 0, 0, 0, 0, 0, 0],\n",
      "    [0, 0, 0, 0, 0, 0, 0, 0, 0, 0, 0, 0, 0, 0, 0, 0, 0, 0, 0, 0, 0, 0, 0, 0, 0, 0, 0, 0, 0, 0, 0, 0],\n",
      "    [0, 0, 0, 0, 0, 0, 0, 0, 0, 0, 0, 0, 0, 0, 0, 0, 0, 0, 0, 0, 0, 0, 0, 0, 0, 0, 0, 0, 0, 0, 0, 0],\n",
      "    [0, 0, 0, 0, 0, 0, 0, 0, 0, 0, 0, 0, 0, 0, 0, 0, 0, 0, 0, 0, 0, 0, 0, 0, 0, 0, 0, 0, 0, 0, 0, 0],\n",
      "    [0, 0, 0, 0, 0, 0, 0, 0, 0, 0, 0, 0, 0, 0, 0, 0, 0, 0, 0, 0, 0, 0, 0, 0, 0, 0, 0, 0, 0, 0, 0, 0],\n",
      "    [0, 0, 0, 0, 0, 0, 0, 0, 0, 0, 0, 0, 0, 0, 0, 0, 0, 0, 0, 0, 0, 0, 0, 0, 0, 0, 0, 0, 0, 0, 0, 0],\n",
      "    [0, 0, 0, 0, 0, 0, 0, 0, 0, 0, 0, 0, 0, 0, 0, 0, 0, 0, 0, 0, 0, 0, 0, 0, 0, 0, 0, 0, 0, 0, 0, 0],\n",
      "    [0, 0, 0, 0, 0, 0, 0, 0, 0, 0, 0, 0, 0, 0, 0, 0, 0, 0, 0, 0, 0, 0, 0, 0, 0, 0, 0, 0, 0, 0, 0, 0],\n",
      "    [0, 0, 0, 0, 0, 0, 0, 0, 0, 0, 0, 0, 0, 0, 0, 0, 0, 0, 0, 0, 0, 0, 0, 0, 0, 0, 0, 0, 0, 0, 0, 0]], dtype=bfloat16 )\n",
      "\n",
      "Tensor back in row-major layout:\n",
      "Shape ttnn.Shape([3, 4])\n",
      "Layout: Layout.ROW_MAJOR\n",
      "Tensor([ [0.020752, 0.0820312, 0.664062, 0.0742188],\n",
      "    [0.0463867, 0.785156, 0.664062, 0.0195312],\n",
      "    [0.304688, 0.287109, 0.671875, 0.808594]], dtype=bfloat16 )\n",
      "\n"
     ]
    }
   ],
   "source": [
    "torch_tensor = torch.rand(3, 4).to(torch.float16)\n",
    "ttnn_tensor = ttnn.from_torch(torch_tensor)\n",
    "print(f\"Tensor in row-major layout:\\nShape {ttnn_tensor.shape}\\nLayout: {ttnn_tensor.layout}\\n{ttnn_tensor}\")\n",
    "ttnn_tensor = ttnn.to_layout(ttnn_tensor, ttnn.TILE_LAYOUT)\n",
    "print(f\"Tensor in tile layout:\\nShape {ttnn_tensor.shape}\\nLayout: {ttnn_tensor.layout}\\n{ttnn_tensor}\")\n",
    "ttnn_tensor = ttnn.to_layout(ttnn_tensor, ttnn.ROW_MAJOR_LAYOUT)\n",
    "print(f\"Tensor back in row-major layout:\\nShape {ttnn_tensor.shape}\\nLayout: {ttnn_tensor.layout}\\n{ttnn_tensor}\")"
   ]
  },
  {
   "cell_type": "markdown",
   "metadata": {},
   "source": [
    "Note that padding is automatically inserted to put the tensor into tile layout and it automatically removed after the tensor is converted back to row-major layout"
   ]
  },
  {
   "cell_type": "markdown",
   "metadata": {},
   "source": [
    "The conversion to tile layout can be done when caling `ttnn.from_torch`"
   ]
  },
  {
   "cell_type": "code",
   "execution_count": 7,
   "metadata": {
    "execution": {
     "iopub.execute_input": "2024-02-16T19:46:19.512259Z",
     "iopub.status.busy": "2024-02-16T19:46:19.511436Z",
     "iopub.status.idle": "2024-02-16T19:46:19.516470Z",
     "shell.execute_reply": "2024-02-16T19:46:19.515530Z"
    }
   },
   "outputs": [
    {
     "name": "stdout",
     "output_type": "stream",
     "text": [
      "Tensor in row-major layout:\n",
      "Shape ttnn.Shape([3, 4]); Layout: Layout.ROW_MAJOR\n"
     ]
    }
   ],
   "source": [
    "torch_tensor = torch.rand(3, 4).to(torch.float16)\n",
    "ttnn_tensor = ttnn.from_torch(torch_tensor)\n",
    "print(f\"Tensor in row-major layout:\\nShape {ttnn_tensor.shape}; Layout: {ttnn_tensor.layout}\")"
   ]
  },
  {
   "cell_type": "markdown",
   "metadata": {},
   "source": [
    "Note that `ttnn.to_torch` will always convert to row-major layout"
   ]
  },
  {
   "cell_type": "markdown",
   "metadata": {},
   "source": [
    "## Device storage\n",
    "\n",
    "Finally, in order to actually utilize the tensor, we need to put it on the device. So, that we can run `ttnn` operations on it"
   ]
  },
  {
   "cell_type": "markdown",
   "metadata": {},
   "source": [
    "## Open the device\n",
    "\n",
    "Use `ttnn.open` to get a handle to the device"
   ]
  },
  {
   "cell_type": "code",
   "execution_count": 8,
   "metadata": {
    "execution": {
     "iopub.execute_input": "2024-02-16T19:46:19.519550Z",
     "iopub.status.busy": "2024-02-16T19:46:19.518926Z",
     "iopub.status.idle": "2024-02-16T19:46:20.637590Z",
     "shell.execute_reply": "2024-02-16T19:46:20.636479Z"
    }
   },
   "outputs": [
    {
     "name": "stdout",
     "output_type": "stream",
     "text": [
      "\u001b[38;2;000;128;000m                  Metal\u001b[0m | \u001b[1m\u001b[38;2;100;149;237mINFO    \u001b[0m | Initializing device 0\n",
      "\u001b[38;2;000;128;000m                 Device\u001b[0m | \u001b[1m\u001b[38;2;100;149;237mINFO    \u001b[0m | Opening user mode device driver\n",
      "\u001b[32m2024-02-16 19:46:19.597\u001b[0m | \u001b[1m\u001b[38;2;100;149;237mINFO    \u001b[0m | \u001b[36mSiliconDriver  \u001b[0m - Detected 1 PCI device : {0}\n",
      "\u001b[32m2024-02-16 19:46:19.610\u001b[0m | \u001b[1m\u001b[38;2;255;165;000mWARNING \u001b[0m | \u001b[36mSiliconDriver  \u001b[0m - init_detect_tt_device_numanodes(): Could not determine NumaNodeSet for TT device (physical_device_id: 0 pci_bus_id: 0000:00:08.0)\n",
      "\u001b[32m2024-02-16 19:46:19.610\u001b[0m | \u001b[1m\u001b[38;2;255;165;000mWARNING \u001b[0m | \u001b[36mSiliconDriver  \u001b[0m - Could not find NumaNodeSet for TT Device (physical_device_id: 0 pci_bus_id: 0000:00:08.0)\n",
      "\u001b[32m2024-02-16 19:46:19.612\u001b[0m | \u001b[1m\u001b[38;2;255;165;000mWARNING \u001b[0m | \u001b[36mSiliconDriver  \u001b[0m - bind_area_memory_nodeset(): Unable to determine TT Device to NumaNode mapping for physical_device_id: 0. Skipping membind.\n",
      "\u001b[0;33m---- ttSiliconDevice::init_hugepage: bind_area_to_memory_nodeset() failed (physical_device_id: 0 ch: 0). Hugepage allocation is not on NumaNode matching TT Device. Side-Effect is decreased Device->Host perf (Issue #893).\n",
      "\u001b[0m\u001b[38;2;000;128;000m                  Metal\u001b[0m | \u001b[1m\u001b[38;2;100;149;237mINFO    \u001b[0m | AI CLK for device 0 is:   1202 MHz\n"
     ]
    }
   ],
   "source": [
    "device_id = 0\n",
    "device = ttnn.open_device(device_id=device_id)"
   ]
  },
  {
   "cell_type": "markdown",
   "metadata": {},
   "source": [
    "## Initialize tensors a and b with random values using torch\n",
    "\n",
    "To create a tensor that can be used by a `ttnn` operation:\n",
    "1. Create a tensor using torch\n",
    "2. Use `ttnn.from_torch` to convert the tensor from `torch.Tensor` to `ttnn.Tensor`, change the layout to `ttnn.TILE_LAYOUT` and put the tensor on the `device`"
   ]
  },
  {
   "cell_type": "code",
   "execution_count": 9,
   "metadata": {
    "execution": {
     "iopub.execute_input": "2024-02-16T19:46:20.640912Z",
     "iopub.status.busy": "2024-02-16T19:46:20.640457Z",
     "iopub.status.idle": "2024-02-16T19:46:20.647213Z",
     "shell.execute_reply": "2024-02-16T19:46:20.646404Z"
    }
   },
   "outputs": [],
   "source": [
    "torch.manual_seed(0)\n",
    "\n",
    "torch_input_tensor_a = torch.rand((32, 32), dtype=torch.bfloat16)\n",
    "torch_input_tensor_b = torch.rand((32, 32), dtype=torch.bfloat16)\n",
    "\n",
    "input_tensor_a = ttnn.from_torch(torch_input_tensor_a, layout=ttnn.TILE_LAYOUT, device=device)\n",
    "input_tensor_b = ttnn.from_torch(torch_input_tensor_b, layout=ttnn.TILE_LAYOUT, device=device)"
   ]
  },
  {
   "cell_type": "markdown",
   "metadata": {},
   "source": [
    "## Add tensor a and b\n",
    "\n",
    "`ttnn` supports operator overloading, therefore operator `+` can be used instead of `torch.add`"
   ]
  },
  {
   "cell_type": "code",
   "execution_count": 10,
   "metadata": {
    "execution": {
     "iopub.execute_input": "2024-02-16T19:46:20.650268Z",
     "iopub.status.busy": "2024-02-16T19:46:20.649709Z",
     "iopub.status.idle": "2024-02-16T19:46:21.093777Z",
     "shell.execute_reply": "2024-02-16T19:46:21.092675Z"
    }
   },
   "outputs": [],
   "source": [
    "output_tensor = input_tensor_a + input_tensor_b"
   ]
  },
  {
   "cell_type": "markdown",
   "metadata": {},
   "source": [
    "## Inspect the output tensor of the add in ttnn\n",
    "\n",
    "As can be seen the tensor of the same shape, layout and dtype is produced"
   ]
  },
  {
   "cell_type": "code",
   "execution_count": 11,
   "metadata": {
    "execution": {
     "iopub.execute_input": "2024-02-16T19:46:21.097093Z",
     "iopub.status.busy": "2024-02-16T19:46:21.096660Z",
     "iopub.status.idle": "2024-02-16T19:46:21.101787Z",
     "shell.execute_reply": "2024-02-16T19:46:21.100915Z"
    }
   },
   "outputs": [
    {
     "name": "stdout",
     "output_type": "stream",
     "text": [
      "shape: ttnn.Shape([32, 32])\n",
      "dtype: DataType.BFLOAT16\n",
      "layout: Layout.TILE\n"
     ]
    }
   ],
   "source": [
    "print(f\"shape: {output_tensor.shape}\")\n",
    "print(f\"dtype: {output_tensor.dtype}\")\n",
    "print(f\"layout: {output_tensor.layout}\")"
   ]
  },
  {
   "cell_type": "markdown",
   "metadata": {},
   "source": [
    "In general we expect layout and dtype to stay the same when running most operations unless explicit arguments to modify them are passed in. However, there are obvious exceptions like an embedding operation that takes in `ttnn.uint32` and produces `ttnn.bfloat16`"
   ]
  },
  {
   "cell_type": "markdown",
   "metadata": {},
   "source": [
    "## Convert to torch and inspect the attributes of the torch tensor\n",
    "\n",
    "When converting the tensor to torch, `ttnn.to_torch` will move the tensor from the device, convert to tile layout and figure out the best data type to use on the torch side"
   ]
  },
  {
   "cell_type": "code",
   "execution_count": 12,
   "metadata": {
    "execution": {
     "iopub.execute_input": "2024-02-16T19:46:21.104940Z",
     "iopub.status.busy": "2024-02-16T19:46:21.104400Z",
     "iopub.status.idle": "2024-02-16T19:46:21.109349Z",
     "shell.execute_reply": "2024-02-16T19:46:21.108519Z"
    }
   },
   "outputs": [
    {
     "name": "stdout",
     "output_type": "stream",
     "text": [
      "shape: torch.Size([32, 32])\n",
      "dtype: torch.bfloat16\n"
     ]
    }
   ],
   "source": [
    "output_tensor = ttnn.to_torch(output_tensor)\n",
    "print(f\"shape: {output_tensor.shape}\")\n",
    "print(f\"dtype: {output_tensor.dtype}\")"
   ]
  },
  {
   "cell_type": "markdown",
   "metadata": {},
   "source": [
    "## Close the device\n",
    "\n",
    "Close the handle the device. This is a very important step as the device can hang currently if not closed properly"
   ]
  },
  {
   "cell_type": "code",
   "execution_count": 13,
   "metadata": {
    "execution": {
     "iopub.execute_input": "2024-02-16T19:46:21.112468Z",
     "iopub.status.busy": "2024-02-16T19:46:21.111799Z",
     "iopub.status.idle": "2024-02-16T19:46:21.144901Z",
     "shell.execute_reply": "2024-02-16T19:46:21.143965Z"
    }
   },
   "outputs": [
    {
     "name": "stdout",
     "output_type": "stream",
     "text": [
      "\u001b[38;2;000;128;000m                  Metal\u001b[0m | \u001b[1m\u001b[38;2;100;149;237mINFO    \u001b[0m | Closing device 0\n"
     ]
    }
   ],
   "source": [
    "ttnn.close_device(device)"
   ]
  }
 ],
 "metadata": {
  "kernelspec": {
   "display_name": "Python 3 (ipykernel)",
   "language": "python",
   "name": "python3"
  },
  "language_info": {
   "codemirror_mode": {
    "name": "ipython",
    "version": 3
   },
   "file_extension": ".py",
   "mimetype": "text/x-python",
   "name": "python",
   "nbconvert_exporter": "python",
   "pygments_lexer": "ipython3",
   "version": "3.8.10"
  }
 },
 "nbformat": 4,
 "nbformat_minor": 4
}
